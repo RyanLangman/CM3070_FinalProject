{
 "cells": [
  {
   "cell_type": "code",
   "execution_count": 7,
   "metadata": {},
   "outputs": [
    {
     "ename": "OSError",
     "evalue": "dlopen(/Users/ryan-langman/Documents/CM3070_FinalProject/API/venv/lib/python3.10/site-packages/mxnet/libmxnet.so, 0x0006): tried: '/Users/ryan-langman/Documents/CM3070_FinalProject/API/venv/lib/python3.10/site-packages/mxnet/libmxnet.so' (not a mach-o file), '/System/Volumes/Preboot/Cryptexes/OS/Users/ryan-langman/Documents/CM3070_FinalProject/API/venv/lib/python3.10/site-packages/mxnet/libmxnet.so' (no such file), '/Users/ryan-langman/Documents/CM3070_FinalProject/API/venv/lib/python3.10/site-packages/mxnet/libmxnet.so' (not a mach-o file)",
     "output_type": "error",
     "traceback": [
      "\u001b[0;31m---------------------------------------------------------------------------\u001b[0m",
      "\u001b[0;31mOSError\u001b[0m                                   Traceback (most recent call last)",
      "Cell \u001b[0;32mIn[7], line 2\u001b[0m\n\u001b[1;32m      1\u001b[0m \u001b[39mimport\u001b[39;00m \u001b[39mcv2\u001b[39;00m\n\u001b[0;32m----> 2\u001b[0m \u001b[39mimport\u001b[39;00m \u001b[39mgluoncv\u001b[39;00m \u001b[39mas\u001b[39;00m \u001b[39mgcv\u001b[39;00m\n\u001b[1;32m      3\u001b[0m \u001b[39mimport\u001b[39;00m \u001b[39mmxnet\u001b[39;00m \u001b[39mas\u001b[39;00m \u001b[39mmx\u001b[39;00m\n\u001b[1;32m      5\u001b[0m \u001b[39m# Load the model\u001b[39;00m\n",
      "File \u001b[0;32m~/Documents/CM3070_FinalProject/API/venv/lib/python3.10/site-packages/gluoncv/__init__.py:16\u001b[0m\n\u001b[1;32m     14\u001b[0m _found_mxnet \u001b[39m=\u001b[39m _found_pytorch \u001b[39m=\u001b[39m \u001b[39mFalse\u001b[39;00m\n\u001b[1;32m     15\u001b[0m \u001b[39mtry\u001b[39;00m:\n\u001b[0;32m---> 16\u001b[0m     _require_mxnet_version(\u001b[39m'\u001b[39;49m\u001b[39m1.4.0\u001b[39;49m\u001b[39m'\u001b[39;49m, \u001b[39m'\u001b[39;49m\u001b[39m2.0.0\u001b[39;49m\u001b[39m'\u001b[39;49m)\n\u001b[1;32m     17\u001b[0m     \u001b[39mfrom\u001b[39;00m \u001b[39m.\u001b[39;00m \u001b[39mimport\u001b[39;00m data\n\u001b[1;32m     18\u001b[0m     \u001b[39mfrom\u001b[39;00m \u001b[39m.\u001b[39;00m \u001b[39mimport\u001b[39;00m model_zoo\n",
      "File \u001b[0;32m~/Documents/CM3070_FinalProject/API/venv/lib/python3.10/site-packages/gluoncv/check.py:6\u001b[0m, in \u001b[0;36m_require_mxnet_version\u001b[0;34m(mx_version, max_mx_version)\u001b[0m\n\u001b[1;32m      4\u001b[0m \u001b[39mdef\u001b[39;00m \u001b[39m_require_mxnet_version\u001b[39m(mx_version, max_mx_version\u001b[39m=\u001b[39m\u001b[39m'\u001b[39m\u001b[39m2.0.0\u001b[39m\u001b[39m'\u001b[39m):\n\u001b[1;32m      5\u001b[0m     \u001b[39mtry\u001b[39;00m:\n\u001b[0;32m----> 6\u001b[0m         \u001b[39mimport\u001b[39;00m \u001b[39mmxnet\u001b[39;00m \u001b[39mas\u001b[39;00m \u001b[39mmx\u001b[39;00m\n\u001b[1;32m      7\u001b[0m         \u001b[39mfrom\u001b[39;00m \u001b[39mdistutils\u001b[39;00m\u001b[39m.\u001b[39;00m\u001b[39mversion\u001b[39;00m \u001b[39mimport\u001b[39;00m LooseVersion\n\u001b[1;32m      8\u001b[0m         \u001b[39mif\u001b[39;00m LooseVersion(mx\u001b[39m.\u001b[39m__version__) \u001b[39m<\u001b[39m LooseVersion(mx_version) \u001b[39mor\u001b[39;00m \\\n\u001b[1;32m      9\u001b[0m             LooseVersion(mx\u001b[39m.\u001b[39m__version__) \u001b[39m>\u001b[39m\u001b[39m=\u001b[39m LooseVersion(max_mx_version):\n",
      "File \u001b[0;32m~/Documents/CM3070_FinalProject/API/venv/lib/python3.10/site-packages/mxnet/__init__.py:24\u001b[0m\n\u001b[1;32m     21\u001b[0m \u001b[39m\"\"\"MXNet: a concise, fast and flexible framework for deep learning.\"\"\"\u001b[39;00m\n\u001b[1;32m     22\u001b[0m \u001b[39mfrom\u001b[39;00m \u001b[39m__future__\u001b[39;00m \u001b[39mimport\u001b[39;00m absolute_import\n\u001b[0;32m---> 24\u001b[0m \u001b[39mfrom\u001b[39;00m \u001b[39m.\u001b[39;00m\u001b[39mcontext\u001b[39;00m \u001b[39mimport\u001b[39;00m Context, current_context, cpu, gpu, cpu_pinned\n\u001b[1;32m     25\u001b[0m \u001b[39mfrom\u001b[39;00m \u001b[39m.\u001b[39;00m \u001b[39mimport\u001b[39;00m engine\n\u001b[1;32m     26\u001b[0m \u001b[39mfrom\u001b[39;00m \u001b[39m.\u001b[39;00m\u001b[39mbase\u001b[39;00m \u001b[39mimport\u001b[39;00m MXNetError\n",
      "File \u001b[0;32m~/Documents/CM3070_FinalProject/API/venv/lib/python3.10/site-packages/mxnet/context.py:24\u001b[0m\n\u001b[1;32m     22\u001b[0m \u001b[39mimport\u001b[39;00m \u001b[39mwarnings\u001b[39;00m\n\u001b[1;32m     23\u001b[0m \u001b[39mimport\u001b[39;00m \u001b[39mctypes\u001b[39;00m\n\u001b[0;32m---> 24\u001b[0m \u001b[39mfrom\u001b[39;00m \u001b[39m.\u001b[39;00m\u001b[39mbase\u001b[39;00m \u001b[39mimport\u001b[39;00m classproperty, with_metaclass, _MXClassPropertyMetaClass\n\u001b[1;32m     25\u001b[0m \u001b[39mfrom\u001b[39;00m \u001b[39m.\u001b[39;00m\u001b[39mbase\u001b[39;00m \u001b[39mimport\u001b[39;00m _LIB\n\u001b[1;32m     26\u001b[0m \u001b[39mfrom\u001b[39;00m \u001b[39m.\u001b[39;00m\u001b[39mbase\u001b[39;00m \u001b[39mimport\u001b[39;00m check_call\n",
      "File \u001b[0;32m~/Documents/CM3070_FinalProject/API/venv/lib/python3.10/site-packages/mxnet/base.py:214\u001b[0m\n\u001b[1;32m    212\u001b[0m __version__ \u001b[39m=\u001b[39m libinfo\u001b[39m.\u001b[39m__version__\n\u001b[1;32m    213\u001b[0m \u001b[39m# library instance of mxnet\u001b[39;00m\n\u001b[0;32m--> 214\u001b[0m _LIB \u001b[39m=\u001b[39m _load_lib()\n\u001b[1;32m    216\u001b[0m \u001b[39m# type definitions\u001b[39;00m\n\u001b[1;32m    217\u001b[0m mx_int \u001b[39m=\u001b[39m ctypes\u001b[39m.\u001b[39mc_int\n",
      "File \u001b[0;32m~/Documents/CM3070_FinalProject/API/venv/lib/python3.10/site-packages/mxnet/base.py:205\u001b[0m, in \u001b[0;36m_load_lib\u001b[0;34m()\u001b[0m\n\u001b[1;32m    203\u001b[0m \u001b[39m\u001b[39m\u001b[39m\"\"\"Load library by searching possible path.\"\"\"\u001b[39;00m\n\u001b[1;32m    204\u001b[0m lib_path \u001b[39m=\u001b[39m libinfo\u001b[39m.\u001b[39mfind_lib_path()\n\u001b[0;32m--> 205\u001b[0m lib \u001b[39m=\u001b[39m ctypes\u001b[39m.\u001b[39;49mCDLL(lib_path[\u001b[39m0\u001b[39;49m], ctypes\u001b[39m.\u001b[39;49mRTLD_LOCAL)\n\u001b[1;32m    206\u001b[0m \u001b[39m# DMatrix functions\u001b[39;00m\n\u001b[1;32m    207\u001b[0m lib\u001b[39m.\u001b[39mMXGetLastError\u001b[39m.\u001b[39mrestype \u001b[39m=\u001b[39m ctypes\u001b[39m.\u001b[39mc_char_p\n",
      "File \u001b[0;32m~/.pyenv/versions/3.10.5/lib/python3.10/ctypes/__init__.py:374\u001b[0m, in \u001b[0;36mCDLL.__init__\u001b[0;34m(self, name, mode, handle, use_errno, use_last_error, winmode)\u001b[0m\n\u001b[1;32m    371\u001b[0m \u001b[39mself\u001b[39m\u001b[39m.\u001b[39m_FuncPtr \u001b[39m=\u001b[39m _FuncPtr\n\u001b[1;32m    373\u001b[0m \u001b[39mif\u001b[39;00m handle \u001b[39mis\u001b[39;00m \u001b[39mNone\u001b[39;00m:\n\u001b[0;32m--> 374\u001b[0m     \u001b[39mself\u001b[39m\u001b[39m.\u001b[39m_handle \u001b[39m=\u001b[39m _dlopen(\u001b[39mself\u001b[39;49m\u001b[39m.\u001b[39;49m_name, mode)\n\u001b[1;32m    375\u001b[0m \u001b[39melse\u001b[39;00m:\n\u001b[1;32m    376\u001b[0m     \u001b[39mself\u001b[39m\u001b[39m.\u001b[39m_handle \u001b[39m=\u001b[39m handle\n",
      "\u001b[0;31mOSError\u001b[0m: dlopen(/Users/ryan-langman/Documents/CM3070_FinalProject/API/venv/lib/python3.10/site-packages/mxnet/libmxnet.so, 0x0006): tried: '/Users/ryan-langman/Documents/CM3070_FinalProject/API/venv/lib/python3.10/site-packages/mxnet/libmxnet.so' (not a mach-o file), '/System/Volumes/Preboot/Cryptexes/OS/Users/ryan-langman/Documents/CM3070_FinalProject/API/venv/lib/python3.10/site-packages/mxnet/libmxnet.so' (no such file), '/Users/ryan-langman/Documents/CM3070_FinalProject/API/venv/lib/python3.10/site-packages/mxnet/libmxnet.so' (not a mach-o file)"
     ]
    }
   ],
   "source": [
    "import cv2\n",
    "import gluoncv as gcv\n",
    "import mxnet as mx\n",
    "\n",
    "# Load the model\n",
    "net = gcv.model_zoo.get_model('ssd_512_mobilenet1.0_voc', pretrained=True)\n",
    "\n",
    "# Load the webcam handler\n",
    "cap = cv2.VideoCapture(1)\n",
    "time.sleep(1) ### letting the camera autofocus\n",
    "\n",
    "while(True):\n",
    "    # Capture frame-by-frame\n",
    "    ret, frame = cap.read()\n",
    "    if not ret:\n",
    "        print(\"Can't receive frame (stream end?). Exiting ...\")\n",
    "        break\n",
    "\n",
    "    # Image pre-processing\n",
    "    frame = mx.nd.array(cv2.cvtColor(frame, cv2.COLOR_BGR2RGB)).astype('uint8')\n",
    "    rgb_nd, frame = gcv.data.transforms.presets.ssd.transform_test(frame, short=512, max_size=700)\n",
    "\n",
    "    # Run frame through network\n",
    "    class_IDs, scores, bounding_boxes = net(rgb_nd)\n",
    "\n",
    "    # Display the result\n",
    "    frame = gcv.utils.viz.cv_plot_bbox(frame, bounding_boxes[0], scores[0], class_IDs[0], class_names=net.classes)\n",
    "    gcv.utils.viz.cv_plot_image(frame)\n",
    "\n",
    "    # Break the loop on pressing 'q'\n",
    "    if cv2.waitKey(1) & 0xFF == ord('q'):\n",
    "        break\n",
    "\n",
    "cap.release()\n",
    "cv2.destroyAllWindows()\n"
   ]
  }
 ],
 "metadata": {
  "kernelspec": {
   "display_name": "venv",
   "language": "python",
   "name": "python3"
  },
  "language_info": {
   "codemirror_mode": {
    "name": "ipython",
    "version": 3
   },
   "file_extension": ".py",
   "mimetype": "text/x-python",
   "name": "python",
   "nbconvert_exporter": "python",
   "pygments_lexer": "ipython3",
   "version": "3.10.5"
  },
  "orig_nbformat": 4
 },
 "nbformat": 4,
 "nbformat_minor": 2
}
